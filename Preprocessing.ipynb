{
  "nbformat": 4,
  "nbformat_minor": 0,
  "metadata": {
    "colab": {
      "provenance": []
    },
    "kernelspec": {
      "name": "python3",
      "display_name": "Python 3"
    },
    "language_info": {
      "name": "python"
    }
  },
  "cells": [
    {
      "cell_type": "markdown",
      "source": [
        "**DATA PROCESSING**"
      ],
      "metadata": {
        "id": "x4wy6gbod0AQ"
      }
    },
    {
      "cell_type": "code",
      "execution_count": null,
      "metadata": {
        "id": "pBiCDJuHdxO6"
      },
      "outputs": [],
      "source": [
        "# Import libraries\n",
        "import pandas as pd\n",
        "import numpy as np\n",
        "import seaborn as sns\n",
        "import scipy\n",
        "from matplotlib import pyplot as plt\n",
        "print (\"Imported all libraries successfully...\")"
      ]
    },
    {
      "cell_type": "markdown",
      "source": [
        "**LOAD HEART FAILURE DATA**\n",
        "\n",
        "https://www.kaggle.com/datasets/fedesoriano/heart-failure-prediction\n",
        "\n",
        "We imported a heart failure dataset found on Kaggle and converted it to a Pandas DataFrame in this step."
      ],
      "metadata": {
        "id": "A174Sz2Gd9va"
      }
    },
    {
      "cell_type": "code",
      "source": [
        "from IPython.core.interactiveshell import InteractiveShell\n",
        "InteractiveShell.ast_node_interactivity = \"all\"\n",
        "\n",
        "heart_failure_df = pd.read_csv(\"heart.csv\")\n",
        "\n",
        "heart_failure_df.info()"
      ],
      "metadata": {
        "id": "jr_VWi6gd-Ud"
      },
      "execution_count": null,
      "outputs": []
    },
    {
      "cell_type": "code",
      "source": [
        "heart_failure_df.head()"
      ],
      "metadata": {
        "id": "mycQPXemeCTH"
      },
      "execution_count": null,
      "outputs": []
    },
    {
      "cell_type": "markdown",
      "source": [
        "**REMOVE DUPLICATES**\n",
        "\n",
        "We checked for and removed duplicates in the dataset."
      ],
      "metadata": {
        "id": "3mxHB28_eEZs"
      }
    },
    {
      "cell_type": "code",
      "source": [
        "number_of_duplicates = heart_failure_df.duplicated().sum()\n",
        "print (f\" Number of duplicates before : {number_of_duplicates}\")\n",
        "\n",
        "# Delete duplicate rows\n",
        "breast_cancer_df = heart_failure_df.drop_duplicates()\n",
        "\n",
        "number_of_duplicates = heart_failure_df.duplicated().sum()\n",
        "print (f\" Number of duplicates after removing : {number_of_duplicates}\")"
      ],
      "metadata": {
        "id": "VcqxrNnXeGgF"
      },
      "execution_count": null,
      "outputs": []
    },
    {
      "cell_type": "markdown",
      "source": [
        "**CONVERT CATAGORICAL COLUMNS TO NUMERICAL**\n",
        "\n",
        "There are quite a few columns that are categorical that need to be converted to numerical in order for the machine learning model to work. We changed:\n",
        "\n",
        "1. Sex (binary): 0 for male; 1 for female\n",
        "2. ExerciseAngina (binary): 0 for Yes; 1 for No\n",
        "3. ChestPainType: 0 for Asymptomatic; 1 for Atypical Angina; 2 for Non-Anginal Pain; 3 for Typical Angina\n",
        "4. RestingECG: 0 for Normal; 1 for Left Ventricular Hypertrophy; 2 for ST-T wave abnormality.\n",
        "5. ST_Slope: 0 for Flat; 1 for Up; 2 for Down"
      ],
      "metadata": {
        "id": "03LmRYcmeI0X"
      }
    },
    {
      "cell_type": "code",
      "source": [
        "def featurize(df):\n",
        "  x = df[['Age', 'RestingBP', 'Cholesterol', 'FastingBS', 'MaxHR', 'Oldpeak', 'HeartDisease']]\n",
        "  print(x)\n",
        "  x['Sex'] = [1 if x== 'F' else 0 for x in df['Sex']]\n",
        "  x['ExerciseAngina'] = [1 if x== 'N' else 0 for x in df['ExerciseAngina']]\n",
        "\n",
        "  chestpain_groups = {\n",
        "      'ASY':0,\n",
        "      'ATA':1,\n",
        "      'NAP':2,\n",
        "      'TA':3,\n",
        "  }\n",
        "\n",
        "  x['ChestPainType'] = [chestpain_groups.get(x.strip()) for x in df['ChestPainType']]\n",
        "\n",
        "  resting_ecg_groups = {\n",
        "      'Normal':0,\n",
        "      'LVH':1,\n",
        "      'ST':2\n",
        "  }\n",
        "\n",
        "  x['RestingECG'] = [resting_ecg_groups.get(x.strip()) for x in df['RestingECG']]\n",
        "\n",
        "  st_slope_groups = {\n",
        "      'Flat':0,\n",
        "      'Up':1,\n",
        "      'Down':2\n",
        "  }\n",
        "\n",
        "  x['ST_Slope'] = [st_slope_groups.get(x.strip()) for x in df['ST_Slope']]\n",
        "\n",
        "  return x\n",
        "\n",
        "heart_data = featurize(heart_failure_df)\n",
        "# display(heart_data.head())"
      ],
      "metadata": {
        "id": "vlszU0k_eOSy"
      },
      "execution_count": null,
      "outputs": []
    },
    {
      "cell_type": "markdown",
      "source": [
        "Convert cleaned heart data to DataFrame."
      ],
      "metadata": {
        "id": "V7fHmUYreUBv"
      }
    },
    {
      "cell_type": "code",
      "source": [
        "heart_data_df = pd.DataFrame(heart_data)\n",
        "display(heart_data_df)"
      ],
      "metadata": {
        "id": "1zwcS0WzeSLT"
      },
      "execution_count": null,
      "outputs": []
    },
    {
      "cell_type": "code",
      "source": [
        "# Save DataFrame as CSV\n",
        "heart_data_df.to_csv(\"heart_data_df.csv\")"
      ],
      "metadata": {
        "id": "_nwbCic5eXdS"
      },
      "execution_count": null,
      "outputs": []
    },
    {
      "cell_type": "markdown",
      "source": [
        "**SPLIT DATA FOR TRAINING**\n",
        "\n",
        "We split the data into seperate training and testing data frames. 80% of the data is designated for training while 20% is designated for testing."
      ],
      "metadata": {
        "id": "rmiNjF4dgBSM"
      }
    },
    {
      "cell_type": "code",
      "source": [
        "from sklearn.model_selection import train_test_split\n",
        "\n",
        "train_df, test_df = train_test_split(heart_data_df, test_size=0.2, random_state = 100)\n",
        "train_df.to_csv(\"heart_failure_train.csv\")\n",
        "test_df.to_csv(\"heart_failure_test.csv\")"
      ],
      "metadata": {
        "id": "6QIkYu7AgBql"
      },
      "execution_count": null,
      "outputs": []
    }
  ]
}