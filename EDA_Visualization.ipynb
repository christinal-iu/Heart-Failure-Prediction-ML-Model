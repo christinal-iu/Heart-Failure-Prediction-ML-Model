{
  "cells": [
    {
      "cell_type": "markdown",
      "metadata": {
        "id": "view-in-github",
        "colab_type": "text"
      },
      "source": [
        "<a href=\"https://colab.research.google.com/github/christinal-iu/Heart-Failure-Prediction-ML-Model/blob/main/EDA_Visualization.ipynb\" target=\"_parent\"><img src=\"https://colab.research.google.com/assets/colab-badge.svg\" alt=\"Open In Colab\"/></a>"
      ]
    },
    {
      "cell_type": "code",
      "execution_count": null,
      "metadata": {
        "id": "kO1tOu1rzBBL"
      },
      "outputs": [],
      "source": [
        "# Import libraries\n",
        "import pandas as pd\n",
        "import numpy as np\n",
        "import seaborn as sns\n",
        "import scipy\n",
        "from matplotlib import pyplot as plt\n",
        "print (\"Imported all libraries successfully...\")"
      ]
    },
    {
      "cell_type": "code",
      "source": [
        "heart_data_df = pd.read_csv(\"heart_data_df.csv\")"
      ],
      "metadata": {
        "id": "bL05_IqqfLLo"
      },
      "execution_count": null,
      "outputs": []
    },
    {
      "cell_type": "markdown",
      "metadata": {
        "id": "s-hrM0_CXVsY"
      },
      "source": [
        "**EXPLORATORY DATA ANALYSIS & VISUALIZATIONS**"
      ]
    },
    {
      "cell_type": "markdown",
      "metadata": {
        "id": "74PBO9tXaXac"
      },
      "source": [
        "Install data prep library for EDA."
      ]
    },
    {
      "cell_type": "code",
      "execution_count": null,
      "metadata": {
        "id": "5CvDeR50aA9A"
      },
      "outputs": [],
      "source": [
        "!pip install -U git+https://github.com/sfu-db/dataprep.git@develop --quiet"
      ]
    },
    {
      "cell_type": "code",
      "execution_count": null,
      "metadata": {
        "id": "8kI-B0bCaefg"
      },
      "outputs": [],
      "source": [
        "from dataprep.eda import *\n",
        "from dataprep.datasets import load_dataset\n",
        "from dataprep.eda import plot, plot_correlation, plot_missing, plot_diff, create_report"
      ]
    },
    {
      "cell_type": "markdown",
      "source": [
        "**GRAPHS**"
      ],
      "metadata": {
        "id": "5JmmYb_7h2G6"
      }
    },
    {
      "cell_type": "code",
      "execution_count": null,
      "metadata": {
        "id": "9p1-kxMaeObg"
      },
      "outputs": [],
      "source": [
        "plot(heart_data_df)"
      ]
    },
    {
      "cell_type": "markdown",
      "source": [
        "Each graph shows the data distributions of each attribute. Age ranges from 27 to 77, and is centered around 54, following a mostly normal distribution. MaxHR is also mostly normally distributed. RestingBP, Oldpeak and Cholesterol are both skewed, with Cholesterol having 18% of its values as 0. Furthermore, we can clearly see the counts on the categorical data we relabeled. We can see that 508 individuals are class 1 (has Heart Disease) and 410 are class 0 (do not have Heart Disease)."
      ],
      "metadata": {
        "id": "xBqjmkeuqZXp"
      }
    },
    {
      "cell_type": "code",
      "execution_count": null,
      "metadata": {
        "id": "uLCXljH1fVsQ"
      },
      "outputs": [],
      "source": [
        "plot_correlation(heart_data_df)"
      ]
    },
    {
      "cell_type": "markdown",
      "source": [
        "The table above displays the Pearson, Spearman, and KendallTau correlations between the inputs and output. The Spearman correlation table shows the highest positive correlation between Oldpeak (input) and HeartDisease (output). The highest negative correlation is between Heart Disease (output) and Exercise Angina (input)."
      ],
      "metadata": {
        "id": "sFXIAFqSO2dF"
      }
    },
    {
      "cell_type": "code",
      "execution_count": null,
      "metadata": {
        "id": "O6CivmI5f3_8"
      },
      "outputs": [],
      "source": [
        "plot(heart_data_df, \"HeartDisease\", \"Age\")"
      ]
    },
    {
      "cell_type": "markdown",
      "source": [
        "The line chart above shows similar patterns in terms of increasing and decreasing trends, but the line depicting individuals with Heart Disease has higher numbers in the age range of 50-65. This could imply that age does impact an individual's chance of having heart disease."
      ],
      "metadata": {
        "id": "Mxvnkgu_PpBt"
      }
    },
    {
      "cell_type": "code",
      "execution_count": null,
      "metadata": {
        "id": "Y_s9Ys0zljDz"
      },
      "outputs": [],
      "source": [
        "plot(heart_data_df, \"HeartDisease\", \"RestingBP\")"
      ]
    },
    {
      "cell_type": "markdown",
      "source": [
        "Both the line chart and box plot of individuals with heart disease and individuals without heart disease are extremely similar, with almost the same means. This, however, indicates that resting blood pressure is not a significant attribute that can help us determine whether or not an individual has heart disease. Despite this, we will keep this attribute in our data as resting blood pressure is still a significant attribute, and can help the model identify outliers in blood pressure."
      ],
      "metadata": {
        "id": "Dpilz53CQRQ_"
      }
    },
    {
      "cell_type": "code",
      "execution_count": null,
      "metadata": {
        "id": "2ahi3OkqljzH"
      },
      "outputs": [],
      "source": [
        "plot(heart_data_df, \"HeartDisease\", \"Cholesterol\")"
      ]
    },
    {
      "cell_type": "markdown",
      "source": [
        "Individuals without heart disease have a smaller range than individuals with heart disease in terms of cholesterol levels, but they have similar medians centered around 220. There are more outliers above the upper whisker of class 0, but the line graph shows class 1 with a significant number of individuals with 0 cholesterol. This would mean that cholesterol is a highly impactful attribute in determining heart disease."
      ],
      "metadata": {
        "id": "0G6qd-Z5Rt-6"
      }
    },
    {
      "cell_type": "code",
      "execution_count": null,
      "metadata": {
        "id": "6itSLslaljdb"
      },
      "outputs": [],
      "source": [
        "plot(heart_data_df, \"HeartDisease\", \"FastingBS\")"
      ]
    },
    {
      "cell_type": "markdown",
      "source": [
        "The nested bar chart shows the number of people who do not have heart disease and have a FastingBS below 120 mg/dl (366), people who do not have heart disease and have a FastingBS above 120 mg/dl (44), people who do have heart disease and have a FastingBS below 120 mg/dl (388), and people who do have heart disease with a FastingBS above 120mg/dl (170). It seems that having a FastingBS lower than 120 mg/dl is a commonality in both individuals with heart disease and those without, but there are a significant number of individuals (170) with high fasting blood sugar that do have heart disease, meaning it is a meaningful attribute."
      ],
      "metadata": {
        "id": "JmO7q1sISk6N"
      }
    },
    {
      "cell_type": "code",
      "execution_count": null,
      "metadata": {
        "id": "TyB981gOlnrv"
      },
      "outputs": [],
      "source": [
        "plot(heart_data_df, \"HeartDisease\", \"MaxHR\")"
      ]
    },
    {
      "cell_type": "markdown",
      "source": [
        "The maximum heart rate is much higher for individuals without heart disease, with a median of 150, compared to a median of 126 for individuals with heart disease. This outcome makes sense as individuals with heart failure achieve lower heart rates at maximal exercise."
      ],
      "metadata": {
        "id": "rZ86zTZrUXJ7"
      }
    },
    {
      "cell_type": "code",
      "execution_count": null,
      "metadata": {
        "id": "lmZJHESFlp0p"
      },
      "outputs": [],
      "source": [
        "plot(heart_data_df, \"HeartDisease\", \"Oldpeak\")"
      ]
    },
    {
      "cell_type": "markdown",
      "source": [
        "Oldpeak has a larger range of individuals with heart disease. Additionally, it has a higher median of 1.2 than the median of individuals without heart disease. Oldpeak refers to the depression observed between the first and second parts of the ST segment in an electrocardiogram, which is a quick test to check the heartbeat. This is a significant attribute in determining heart failure."
      ],
      "metadata": {
        "id": "sErD3Gm2VXKQ"
      }
    },
    {
      "cell_type": "code",
      "execution_count": null,
      "metadata": {
        "id": "L-gsOyHoltXz"
      },
      "outputs": [],
      "source": [
        "plot(heart_data_df, \"HeartDisease\", \"Sex\")"
      ]
    },
    {
      "cell_type": "markdown",
      "source": [
        "0 represents male while 1 represents female. The number of males without heart disease is 267; females without heart disease is 143; males with heart disease is 458, and females with heart disease is 50. Admittedly, the number of men and women sampled were not the same, but these data points were collected from a representative sample of hospital data and may point to a correlation in men having a higher chance of getting heart disease."
      ],
      "metadata": {
        "id": "34eUWO2tYNU-"
      }
    },
    {
      "cell_type": "code",
      "execution_count": null,
      "metadata": {
        "id": "kG8iC-z5lvEz"
      },
      "outputs": [],
      "source": [
        "plot(heart_data_df, \"HeartDisease\", \"ExerciseAngina\")"
      ]
    },
    {
      "cell_type": "markdown",
      "source": [
        "Exercise angina refers to chest pain that comes from exercise. The number of people without heart disease that reported having exercise angina is 55; people without heart disease with no exercise angina is 355; people with heart disease and exercise angina is 316; and people with heart disease and no exercise angina is 192. This shows that exercise angina does significantly impact the outcome of heart failure."
      ],
      "metadata": {
        "id": "y7zm-NfyZlY6"
      }
    },
    {
      "cell_type": "code",
      "execution_count": null,
      "metadata": {
        "id": "yK2FRUiGlxJ9"
      },
      "outputs": [],
      "source": [
        "plot(heart_data_df, \"HeartDisease\", \"ChestPainType\")"
      ]
    },
    {
      "cell_type": "markdown",
      "source": [
        "The most important takeaway from this nested bar chart is that asymptomatic chest-pain-type is the highest (by far) number for individuals with heart disease. This is impactful because this means people with heart failure may not realize that they do because they cannot feel any chest pain."
      ],
      "metadata": {
        "id": "SCfwFuJEbGZX"
      }
    },
    {
      "cell_type": "code",
      "execution_count": null,
      "metadata": {
        "id": "uOvaov0llzMF"
      },
      "outputs": [],
      "source": [
        "plot(heart_data_df, \"HeartDisease\", \"RestingECG\")"
      ]
    },
    {
      "cell_type": "markdown",
      "source": [
        "Resting electrocardiogram refers to a test that can detect abnormalities such as left ventricular hypertrophy and ST-T wave abnormality. In both individuals with and without heart disease, most patients have a normal resting ECG."
      ],
      "metadata": {
        "id": "2tpHifwlbLru"
      }
    },
    {
      "cell_type": "code",
      "execution_count": null,
      "metadata": {
        "id": "wHz-vtF_l1f9"
      },
      "outputs": [],
      "source": [
        "plot(heart_data_df, \"HeartDisease\", \"ST_Slope\")"
      ]
    },
    {
      "cell_type": "markdown",
      "source": [
        "ST Slope refers to the slope of the peak exercise ST segment. For individuals without heart disease, left ventricular hypertrophy is the highest statistic while individuals with heart disease have the highest statistic of normal ST Slope. This seems counter-intuitive, as we expected the statistic for normal ST Slope to be much higher in individuals without heart disease. Thus, this can be a limitation in our study."
      ],
      "metadata": {
        "id": "wGYErv3mbMYs"
      }
    },
    {
      "cell_type": "code",
      "execution_count": null,
      "metadata": {
        "id": "VIO5rg5pmzo1"
      },
      "outputs": [],
      "source": [
        "plot_correlation(heart_data_df, \"HeartDisease\")"
      ]
    },
    {
      "cell_type": "markdown",
      "source": [
        "According to Spearman correlation graph, Oldpeak has the highest positive correlation while Exercise Angina has the highest negative correlation. We decided that all attributes, however, are significant enough and integral in determining heart failure."
      ],
      "metadata": {
        "id": "fI2fFNJYbNze"
      }
    },
    {
      "cell_type": "code",
      "execution_count": null,
      "metadata": {
        "id": "Ofm6n7QfnCBV"
      },
      "outputs": [],
      "source": [
        "create_report(heart_data_df)"
      ]
    },
    {
      "cell_type": "markdown",
      "source": [
        "The report provides a summary of all the descriptive statistics for each input variable and their correlations. It also gives a comprehensive overview of the entire dataset."
      ],
      "metadata": {
        "id": "tMFlrMUHeN6J"
      }
    },
    {
      "cell_type": "markdown",
      "metadata": {
        "id": "YUmDbT6-nUjW"
      },
      "source": [
        "**DESCRIPTIVE STATISTICS**\n"
      ]
    },
    {
      "cell_type": "code",
      "source": [
        "oldpeak = heart_data_df[\"Oldpeak\"]\n",
        "oldpeak.describe()"
      ],
      "metadata": {
        "id": "EDdKNqZxpgtA"
      },
      "execution_count": null,
      "outputs": []
    },
    {
      "cell_type": "markdown",
      "source": [
        "These are the basic descriptive statistics for the Oldpeak attribute in the heart failure data. The mean is 0.88, with a standard deviation of 1.066. The small standard deviation suggests that the values are close to the mean, signifying a lack of skewness in the data. Additionally, there seems to not be many outliers, and can significantly benefit our model in determining whether an individual has heart failure or not.\n",
        "\n",
        "Descriptive statistics for the rest of the attributes can be found in the report above."
      ],
      "metadata": {
        "id": "PLsw9Pm-ev8t"
      }
    }
  ],
  "metadata": {
    "colab": {
      "provenance": [],
      "private_outputs": true,
      "include_colab_link": true
    },
    "kernelspec": {
      "display_name": "Python 3",
      "name": "python3"
    },
    "language_info": {
      "name": "python"
    }
  },
  "nbformat": 4,
  "nbformat_minor": 0
}